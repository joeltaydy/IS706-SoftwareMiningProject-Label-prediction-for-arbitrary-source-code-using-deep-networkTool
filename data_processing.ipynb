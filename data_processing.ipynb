{
 "cells": [
  {
   "cell_type": "code",
   "execution_count": 103,
   "metadata": {},
   "outputs": [],
   "source": [
    "import pandas as pd\n",
    "import re\n",
    "import json\n",
    "from bs4 import BeautifulSoup"
   ]
  },
  {
   "cell_type": "code",
   "execution_count": 104,
   "metadata": {},
   "outputs": [],
   "source": [
    "stack_overflow = \"assets/QueryResults.csv\"\n",
    "df = pd.read_csv(stack_overflow)"
   ]
  },
  {
   "cell_type": "code",
   "execution_count": 105,
   "metadata": {},
   "outputs": [
    {
     "name": "stdout",
     "output_type": "stream",
     "text": [
      "records: 440\n"
     ]
    }
   ],
   "source": [
    "data = []\n",
    "\n",
    "for body, tag in df.loc[:,['body', 'tags']].values:\n",
    "    ## Body code\n",
    "    soup = BeautifulSoup(body)\n",
    "    snippets = [c.get_text() for c in soup.find_all('code')]\n",
    "    ## Body tags\n",
    "    tags = [t for t in re.compile('<|>').split(tag) if len(t) > 0]\n",
    "    for snippet in snippets:\n",
    "        if len(snippet) > 10 and '\\n' in snippet:\n",
    "            d = {}\n",
    "            d['snippet'] = snippet\n",
    "            d['tags'] = tags\n",
    "            data.append(d)     \n",
    "print(\"records: %d\" % len(data))\n",
    "with open('assets/train.json', 'w') as f:\n",
    "    f.write(json.dumps(data, indent=2))\n",
    "    f.close()"
   ]
  },
  {
   "cell_type": "code",
   "execution_count": null,
   "metadata": {},
   "outputs": [],
   "source": []
  }
 ],
 "metadata": {
  "kernelspec": {
   "display_name": "Python 3",
   "language": "python",
   "name": "python3"
  },
  "language_info": {
   "codemirror_mode": {
    "name": "ipython",
    "version": 3
   },
   "file_extension": ".py",
   "mimetype": "text/x-python",
   "name": "python",
   "nbconvert_exporter": "python",
   "pygments_lexer": "ipython3",
   "version": "3.7.7"
  }
 },
 "nbformat": 4,
 "nbformat_minor": 4
}
